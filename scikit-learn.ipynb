{
 "cells": [
  {
   "cell_type": "markdown",
   "id": "935785d1-e070-454f-a21f-d64656d3be9f",
   "metadata": {},
   "source": [
    "# Assignment for Module - Machine Learning and Statistics\n",
    "##### Author: Sheldon D'Souza G00387857"
   ]
  },
  {
   "cell_type": "markdown",
   "id": "1e061424-37a3-40f7-a38f-e4c01af6c128",
   "metadata": {},
   "source": [
    "### Exploring the Scikit-Learn Library"
   ]
  },
  {
   "cell_type": "markdown",
   "id": "f31fa2fe-7426-445f-b330-b634635019b9",
   "metadata": {},
   "source": [
    "- What is Scikit-Learn\n",
    "- Who uses it\n",
    "- Why is it used\n",
    "- What are the best uses cases\n",
    "- What is the key functionality\n",
    "- Examples of using key functionality"
   ]
  },
  {
   "cell_type": "code",
   "execution_count": null,
   "id": "7b543407-4212-4cda-83e3-16f99bcb3519",
   "metadata": {},
   "outputs": [],
   "source": []
  },
  {
   "cell_type": "code",
   "execution_count": null,
   "id": "fd4a92e9-44b5-4739-87ed-bb7ccc12ae77",
   "metadata": {},
   "outputs": [],
   "source": []
  },
  {
   "cell_type": "code",
   "execution_count": null,
   "id": "c56b48a0-7a3a-4451-a154-970471a1012d",
   "metadata": {},
   "outputs": [],
   "source": []
  },
  {
   "cell_type": "code",
   "execution_count": null,
   "id": "7225013c-44c5-431e-be90-bdb3195311b9",
   "metadata": {},
   "outputs": [],
   "source": []
  },
  {
   "cell_type": "markdown",
   "id": "026a7c44-cb18-42bd-81d7-f9b8b8bb0614",
   "metadata": {},
   "source": [
    "### References:\n",
    "\n",
    "[1] - https://scikit-learn.org/stable/"
   ]
  },
  {
   "cell_type": "code",
   "execution_count": null,
   "id": "274c4764-3387-4b04-affd-8ffd1376a52d",
   "metadata": {},
   "outputs": [],
   "source": []
  }
 ],
 "metadata": {
  "kernelspec": {
   "display_name": "Python 3",
   "language": "python",
   "name": "python3"
  },
  "language_info": {
   "codemirror_mode": {
    "name": "ipython",
    "version": 3
   },
   "file_extension": ".py",
   "mimetype": "text/x-python",
   "name": "python",
   "nbconvert_exporter": "python",
   "pygments_lexer": "ipython3",
   "version": "3.8.8"
  }
 },
 "nbformat": 4,
 "nbformat_minor": 5
}
