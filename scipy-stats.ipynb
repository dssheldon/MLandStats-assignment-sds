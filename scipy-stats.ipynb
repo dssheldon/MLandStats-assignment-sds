{
 "cells": [
  {
   "cell_type": "markdown",
   "id": "ee85ad41-76bf-4cf9-baca-714ec7c55cdc",
   "metadata": {
    "tags": []
   },
   "source": [
    "# Assignment for Module - Machine Learning and Statistics\n",
    "##### Author: Sheldon D'Souza G00387857"
   ]
  },
  {
   "cell_type": "markdown",
   "id": "48494dd8-3899-4cc2-bd2b-3bb8b88f5c53",
   "metadata": {},
   "source": [
    "### Using the SciPy Stats Library to perform One-Way ANOVA <sup>[1] [2] [3]</sup>"
   ]
  },
  {
   "cell_type": "markdown",
   "id": "6a430818-da36-4b3f-830f-56ed882b58b9",
   "metadata": {},
   "source": [
    "Scipy a library within Python that a user to perform scientific and technical computing of data. The SciPy library also has extensive features which support the statistical analysis and computing of data. Python SciPy is open-source and is free to use.\n",
    "\n",
    "Scipy builds on Numpy and the features and functions of numpy. The main difference between SciPy and numpy, is that numpy contains basic data and array operations within it, whereas scipy contains the fully equipped versions of all mathematical and scientific numerical functions \n",
    "The Scipy library has a number of sub packages which can be used for different purposes and function depending on the particular needs of the user. \n",
    "\n",
    "Some of these sub-packages include:\n",
    "- stats – statistical distribution and functions\n",
    "- io – input and output\n",
    "- linalg – Linear algebra\n",
    "- special – Special Functions\n",
    "\n",
    "Scipy stats is a sub-package which contains all of the functions used for statistical analysis of data. The “info(stats)” function can be used to obtain a list of the statistics function within the sub-package. These functions can be used to perform a variety of statistical tests on data ranging from medical trials to social sciences analysis.\n",
    "\n",
    "We will look at some of the key functions within the sub-package:\n",
    "\n",
    "- Distributions – The scipy stats package can be used to generate normal, uniform etc. distributions. As with numpy, the results are only reproduceable if a constant seed is used.\n",
    "- Descriptive Statistics - These include functions which give us more information about the data on hand so that the user can make informed decisions. Some of these are available in numpy such as minimum, maximum, mean and median. Scipy stats further adds to these function by giving the user access to functions such as “describe()”, which provides several descriptive statistics on the data. “gmean()” allows the user to calculate the geometric mean. “mode()”, returns the modal value and skew() returns the skewness of the data.\n",
    "- T-test – Scipy stats allows the user to perform a t-test on the data. The t test provides information on the significance of differences between groups (if any) are and whether those differences (measured in means) could have happened by chance. T tests are used to compare the means of a condition between two groups\n",
    "- ANOVA - ANOVA stands for \"Analysis of Variance\". ANOVA can generally be thought of as a generalization of the t tests for more than two groups. The main types of ANOVA are (1) One-Way ANOVA: A one-way ANOVA has just one independent variable (2) Two-Way ANOVA: A two-way ANOVA (also called factorial ANOVA) refers to an ANOVA using two independent variables (3) N-Way ANOVA: A N way ANOVA test uses more than two independent variables, (with n being the number of independent variables you have), aka MANOVA Test"
   ]
  },
  {
   "cell_type": "markdown",
   "id": "77c78cfa-309e-4624-a4ea-d17103b95996",
   "metadata": {},
   "source": [
    "### Importing the necessary packages"
   ]
  },
  {
   "cell_type": "code",
   "execution_count": 1,
   "id": "e071e6b3-47ad-4450-942f-67001a727752",
   "metadata": {},
   "outputs": [],
   "source": [
    "import pandas as pd  # Pandas for dataframe.\n",
    "\n",
    "import seaborn as sns # Seaborn for Plotting.\n",
    "\n",
    "import scipy.stats as ss # SciPy Stats\n",
    "\n",
    "import numpy as np # Numpy for arrays \n",
    "\n",
    "import collections as co # Collections\n",
    "\n",
    "import scipy.special as spec # SciPy Specials\n",
    "\n",
    "import matplotlib.pyplot as plt\n",
    "\n",
    "plt.style.use('ggplot')"
   ]
  },
  {
   "cell_type": "markdown",
   "id": "edad6dd2-4af0-49b4-af0e-663978050797",
   "metadata": {},
   "source": [
    "### Importing the Dataset"
   ]
  },
  {
   "cell_type": "markdown",
   "id": "9f6a446e-55e5-4d6f-bfd4-f6a35e441459",
   "metadata": {},
   "source": [
    "About the dataset (https://bioinformatics-core-shared-training.github.io/linear-models-r/anova.html)\n",
    "\n",
    "The data set contains information on people who undertook one of three diets. There is background information such as age, gender, and height. The aim of the study was to see which diet was best for losing weight."
   ]
  },
  {
   "cell_type": "code",
   "execution_count": 2,
   "id": "e3b65bdf-4e9e-416a-b76f-fd3b1e506ce7",
   "metadata": {},
   "outputs": [],
   "source": [
    "# Import the data\n",
    "\n",
    "# Data also can be found at: df = pd.read_csv('https://www.sheffield.ac.uk/polopoly_fs/1.570199!/file/stcp-Rdataset-Diet.csv')\n",
    "\n",
    "df = pd.read_csv('files\\stcp-Rdataset-Diet.csv', sep=',')"
   ]
  },
  {
   "cell_type": "markdown",
   "id": "286fe549-3529-4e37-837c-8f636a5849ec",
   "metadata": {
    "tags": []
   },
   "source": [
    "### Exploring and preprocessing the dataset"
   ]
  },
  {
   "cell_type": "code",
   "execution_count": 3,
   "id": "46eefe66-3a9a-4c82-91e9-620501095d22",
   "metadata": {},
   "outputs": [],
   "source": [
    "# replacing the blank fields with NaN\n",
    "\n",
    "df = df.replace(r'^\\s*$', np.nan, regex=True) #https://stackoverflow.com/questions/13445241/replacing-blank-values-white-space-with-nan-in-pandas"
   ]
  },
  {
   "cell_type": "code",
   "execution_count": 4,
   "id": "8e1f488d-8f46-4b58-9d01-cc0b8b5ea72a",
   "metadata": {},
   "outputs": [
    {
     "data": {
      "text/plain": [
       "(78, 7)"
      ]
     },
     "execution_count": 4,
     "metadata": {},
     "output_type": "execute_result"
    }
   ],
   "source": [
    "# Shape of the dataset\n",
    "df.shape"
   ]
  },
  {
   "cell_type": "code",
   "execution_count": 5,
   "id": "bc80a9c8-e137-4e4f-83f2-652e351bf917",
   "metadata": {},
   "outputs": [
    {
     "data": {
      "text/html": [
       "<div>\n",
       "<style scoped>\n",
       "    .dataframe tbody tr th:only-of-type {\n",
       "        vertical-align: middle;\n",
       "    }\n",
       "\n",
       "    .dataframe tbody tr th {\n",
       "        vertical-align: top;\n",
       "    }\n",
       "\n",
       "    .dataframe thead th {\n",
       "        text-align: right;\n",
       "    }\n",
       "</style>\n",
       "<table border=\"1\" class=\"dataframe\">\n",
       "  <thead>\n",
       "    <tr style=\"text-align: right;\">\n",
       "      <th></th>\n",
       "      <th>Person</th>\n",
       "      <th>gender</th>\n",
       "      <th>Age</th>\n",
       "      <th>Height</th>\n",
       "      <th>pre.weight</th>\n",
       "      <th>Diet</th>\n",
       "      <th>weight6weeks</th>\n",
       "    </tr>\n",
       "  </thead>\n",
       "  <tbody>\n",
       "    <tr>\n",
       "      <th>0</th>\n",
       "      <td>25</td>\n",
       "      <td>NaN</td>\n",
       "      <td>41</td>\n",
       "      <td>171</td>\n",
       "      <td>60</td>\n",
       "      <td>2</td>\n",
       "      <td>60.0</td>\n",
       "    </tr>\n",
       "    <tr>\n",
       "      <th>1</th>\n",
       "      <td>26</td>\n",
       "      <td>NaN</td>\n",
       "      <td>32</td>\n",
       "      <td>174</td>\n",
       "      <td>103</td>\n",
       "      <td>2</td>\n",
       "      <td>103.0</td>\n",
       "    </tr>\n",
       "    <tr>\n",
       "      <th>2</th>\n",
       "      <td>1</td>\n",
       "      <td>0</td>\n",
       "      <td>22</td>\n",
       "      <td>159</td>\n",
       "      <td>58</td>\n",
       "      <td>1</td>\n",
       "      <td>54.2</td>\n",
       "    </tr>\n",
       "    <tr>\n",
       "      <th>3</th>\n",
       "      <td>2</td>\n",
       "      <td>0</td>\n",
       "      <td>46</td>\n",
       "      <td>192</td>\n",
       "      <td>60</td>\n",
       "      <td>1</td>\n",
       "      <td>54.0</td>\n",
       "    </tr>\n",
       "    <tr>\n",
       "      <th>4</th>\n",
       "      <td>3</td>\n",
       "      <td>0</td>\n",
       "      <td>55</td>\n",
       "      <td>170</td>\n",
       "      <td>64</td>\n",
       "      <td>1</td>\n",
       "      <td>63.3</td>\n",
       "    </tr>\n",
       "  </tbody>\n",
       "</table>\n",
       "</div>"
      ],
      "text/plain": [
       "   Person gender  Age  Height  pre.weight  Diet  weight6weeks\n",
       "0      25    NaN   41     171          60     2          60.0\n",
       "1      26    NaN   32     174         103     2         103.0\n",
       "2       1      0   22     159          58     1          54.2\n",
       "3       2      0   46     192          60     1          54.0\n",
       "4       3      0   55     170          64     1          63.3"
      ]
     },
     "execution_count": 5,
     "metadata": {},
     "output_type": "execute_result"
    }
   ],
   "source": [
    "# Head of the data\n",
    "\n",
    "df.head()"
   ]
  },
  {
   "cell_type": "code",
   "execution_count": 6,
   "id": "9d07ba34-cf7c-4eb7-b2d7-5905713501aa",
   "metadata": {},
   "outputs": [
    {
     "data": {
      "text/html": [
       "<div>\n",
       "<style scoped>\n",
       "    .dataframe tbody tr th:only-of-type {\n",
       "        vertical-align: middle;\n",
       "    }\n",
       "\n",
       "    .dataframe tbody tr th {\n",
       "        vertical-align: top;\n",
       "    }\n",
       "\n",
       "    .dataframe thead th {\n",
       "        text-align: right;\n",
       "    }\n",
       "</style>\n",
       "<table border=\"1\" class=\"dataframe\">\n",
       "  <thead>\n",
       "    <tr style=\"text-align: right;\">\n",
       "      <th></th>\n",
       "      <th>Person</th>\n",
       "      <th>gender</th>\n",
       "      <th>Age</th>\n",
       "      <th>Height</th>\n",
       "      <th>pre.weight</th>\n",
       "      <th>Diet</th>\n",
       "      <th>weight6weeks</th>\n",
       "    </tr>\n",
       "  </thead>\n",
       "  <tbody>\n",
       "    <tr>\n",
       "      <th>0</th>\n",
       "      <td>25</td>\n",
       "      <td>NaN</td>\n",
       "      <td>41</td>\n",
       "      <td>171</td>\n",
       "      <td>60</td>\n",
       "      <td>2</td>\n",
       "      <td>60.0</td>\n",
       "    </tr>\n",
       "    <tr>\n",
       "      <th>1</th>\n",
       "      <td>26</td>\n",
       "      <td>NaN</td>\n",
       "      <td>32</td>\n",
       "      <td>174</td>\n",
       "      <td>103</td>\n",
       "      <td>2</td>\n",
       "      <td>103.0</td>\n",
       "    </tr>\n",
       "  </tbody>\n",
       "</table>\n",
       "</div>"
      ],
      "text/plain": [
       "   Person gender  Age  Height  pre.weight  Diet  weight6weeks\n",
       "0      25    NaN   41     171          60     2          60.0\n",
       "1      26    NaN   32     174         103     2         103.0"
      ]
     },
     "execution_count": 6,
     "metadata": {},
     "output_type": "execute_result"
    }
   ],
   "source": [
    "## Check which fields have NaN Values\n",
    "\n",
    "df[df.isnull().values]"
   ]
  },
  {
   "cell_type": "code",
   "execution_count": 7,
   "id": "21eabc72-cd56-4e5e-8fd1-19ad400cd2db",
   "metadata": {},
   "outputs": [
    {
     "name": "stdout",
     "output_type": "stream",
     "text": [
      "The averge Male Height is: 175.24242424242425\n",
      "The averge Female Height is: 167.34883720930233\n"
     ]
    }
   ],
   "source": [
    "# Finding the averge heights of the males and females in order to classify the missing gender values as male or female\n",
    "\n",
    "avg_height_male = df[df['gender']==\"1\"]\n",
    "avg_height_male = avg_height_male['Height']\n",
    "print(\"The averge Male Height is:\", np.mean(avg_height_male))\n",
    "\n",
    "avg_height_female = df[df['gender']==\"0\"]\n",
    "avg_height_female = avg_height_female['Height']\n",
    "print(\"The averge Female Height is:\", np.mean(avg_height_female))"
   ]
  },
  {
   "cell_type": "code",
   "execution_count": 8,
   "id": "59d44e44-7798-419b-9c8f-85c202ea0a3b",
   "metadata": {},
   "outputs": [
    {
     "data": {
      "image/png": "[encoded data removed]",
      "text/plain": [
       "<Figure size 432x288 with 1 Axes>"
      ]
     },
     "metadata": {},
     "output_type": "display_data"
    }
   ],
   "source": [
    "sns.scatterplot(x = df[\"Height\"], y = df[\"pre.weight\"], hue = df['gender'])\n",
    "plt.title(\"Plotting the Ratio of Height and Weight\")\n",
    "plt.show()"
   ]
  },
  {
   "cell_type": "markdown",
   "id": "be48295c-232d-4739-bba9-f05563b8dddc",
   "metadata": {},
   "source": [
    "As can be seen from the above plot the gender for category 1 is higher that that of gender category 0. We can therefore assume that Category 1 for gender is for Males and Category 0 is for females.  "
   ]
  },
  {
   "cell_type": "code",
   "execution_count": 9,
   "id": "ad61796d-7b1a-4771-8521-958e7352754d",
   "metadata": {},
   "outputs": [],
   "source": [
    "# Classified the missing gender values as Male (\"1\") based on the height values compared to the average height in the dataset for each gender\n",
    "\n",
    "df['gender'] = df['gender'].fillna(\"1\") #https://www.geeksforgeeks.org/replace-nan-values-with-zeros-in-pandas-dataframe/"
   ]
  },
  {
   "cell_type": "code",
   "execution_count": 10,
   "id": "8a1a1a0c-07bc-471b-ae7d-cb9b6c89d389",
   "metadata": {},
   "outputs": [],
   "source": [
    "# Adding BMI change rather than weight change as the values will be tighter. I don't expect there to be a major change in either method of analysis \n",
    "\n",
    "\n",
    "df['BMI_start'] = df[\"pre.weight\"] / (df[\"Height\"] / 100)**2\n",
    "df[\"BMI_end\"] = df[\"weight6weeks\"] / (df[\"Height\"] / 100)**2\n",
    "df[\"BMI_change\"] = df['BMI_start'] - df[\"BMI_end\"]"
   ]
  },
  {
   "cell_type": "code",
   "execution_count": 11,
   "id": "358cd3a2-761a-4672-a0b4-b273ec34bbe9",
   "metadata": {},
   "outputs": [
    {
     "data": {
      "text/html": [
       "<div>\n",
       "<style scoped>\n",
       "    .dataframe tbody tr th:only-of-type {\n",
       "        vertical-align: middle;\n",
       "    }\n",
       "\n",
       "    .dataframe tbody tr th {\n",
       "        vertical-align: top;\n",
       "    }\n",
       "\n",
       "    .dataframe thead th {\n",
       "        text-align: right;\n",
       "    }\n",
       "</style>\n",
       "<table border=\"1\" class=\"dataframe\">\n",
       "  <thead>\n",
       "    <tr style=\"text-align: right;\">\n",
       "      <th></th>\n",
       "      <th>Person</th>\n",
       "      <th>Age</th>\n",
       "      <th>Height</th>\n",
       "      <th>pre.weight</th>\n",
       "      <th>Diet</th>\n",
       "      <th>weight6weeks</th>\n",
       "      <th>BMI_start</th>\n",
       "      <th>BMI_end</th>\n",
       "      <th>BMI_change</th>\n",
       "    </tr>\n",
       "  </thead>\n",
       "  <tbody>\n",
       "    <tr>\n",
       "      <th>count</th>\n",
       "      <td>78.000000</td>\n",
       "      <td>78.000000</td>\n",
       "      <td>78.000000</td>\n",
       "      <td>78.000000</td>\n",
       "      <td>78.000000</td>\n",
       "      <td>78.000000</td>\n",
       "      <td>78.000000</td>\n",
       "      <td>78.000000</td>\n",
       "      <td>78.000000</td>\n",
       "    </tr>\n",
       "    <tr>\n",
       "      <th>mean</th>\n",
       "      <td>39.500000</td>\n",
       "      <td>39.153846</td>\n",
       "      <td>170.820513</td>\n",
       "      <td>72.525641</td>\n",
       "      <td>2.038462</td>\n",
       "      <td>68.680769</td>\n",
       "      <td>25.106408</td>\n",
       "      <td>23.756283</td>\n",
       "      <td>1.350125</td>\n",
       "    </tr>\n",
       "    <tr>\n",
       "      <th>std</th>\n",
       "      <td>22.660538</td>\n",
       "      <td>9.815277</td>\n",
       "      <td>11.276621</td>\n",
       "      <td>8.723344</td>\n",
       "      <td>0.812920</td>\n",
       "      <td>8.924504</td>\n",
       "      <td>4.035443</td>\n",
       "      <td>3.849182</td>\n",
       "      <td>0.934202</td>\n",
       "    </tr>\n",
       "    <tr>\n",
       "      <th>min</th>\n",
       "      <td>1.000000</td>\n",
       "      <td>16.000000</td>\n",
       "      <td>141.000000</td>\n",
       "      <td>58.000000</td>\n",
       "      <td>1.000000</td>\n",
       "      <td>53.000000</td>\n",
       "      <td>16.276042</td>\n",
       "      <td>14.648438</td>\n",
       "      <td>-0.693619</td>\n",
       "    </tr>\n",
       "    <tr>\n",
       "      <th>25%</th>\n",
       "      <td>20.250000</td>\n",
       "      <td>32.250000</td>\n",
       "      <td>164.250000</td>\n",
       "      <td>66.000000</td>\n",
       "      <td>1.000000</td>\n",
       "      <td>61.850000</td>\n",
       "      <td>22.133637</td>\n",
       "      <td>20.933197</td>\n",
       "      <td>0.681503</td>\n",
       "    </tr>\n",
       "    <tr>\n",
       "      <th>50%</th>\n",
       "      <td>39.500000</td>\n",
       "      <td>39.000000</td>\n",
       "      <td>169.500000</td>\n",
       "      <td>72.000000</td>\n",
       "      <td>2.000000</td>\n",
       "      <td>68.950000</td>\n",
       "      <td>24.754720</td>\n",
       "      <td>23.420773</td>\n",
       "      <td>1.271620</td>\n",
       "    </tr>\n",
       "    <tr>\n",
       "      <th>75%</th>\n",
       "      <td>58.750000</td>\n",
       "      <td>46.750000</td>\n",
       "      <td>174.750000</td>\n",
       "      <td>78.000000</td>\n",
       "      <td>3.000000</td>\n",
       "      <td>73.825000</td>\n",
       "      <td>28.435113</td>\n",
       "      <td>26.634658</td>\n",
       "      <td>1.986516</td>\n",
       "    </tr>\n",
       "    <tr>\n",
       "      <th>max</th>\n",
       "      <td>78.000000</td>\n",
       "      <td>60.000000</td>\n",
       "      <td>201.000000</td>\n",
       "      <td>103.000000</td>\n",
       "      <td>3.000000</td>\n",
       "      <td>103.000000</td>\n",
       "      <td>35.209497</td>\n",
       "      <td>34.020346</td>\n",
       "      <td>3.520950</td>\n",
       "    </tr>\n",
       "  </tbody>\n",
       "</table>\n",
       "</div>"
      ],
      "text/plain": [
       "          Person        Age      Height  pre.weight       Diet  weight6weeks  \\\n",
       "count  78.000000  78.000000   78.000000   78.000000  78.000000     78.000000   \n",
       "mean   39.500000  39.153846  170.820513   72.525641   2.038462     68.680769   \n",
       "std    22.660538   9.815277   11.276621    8.723344   0.812920      8.924504   \n",
       "min     1.000000  16.000000  141.000000   58.000000   1.000000     53.000000   \n",
       "25%    20.250000  32.250000  164.250000   66.000000   1.000000     61.850000   \n",
       "50%    39.500000  39.000000  169.500000   72.000000   2.000000     68.950000   \n",
       "75%    58.750000  46.750000  174.750000   78.000000   3.000000     73.825000   \n",
       "max    78.000000  60.000000  201.000000  103.000000   3.000000    103.000000   \n",
       "\n",
       "       BMI_start    BMI_end  BMI_change  \n",
       "count  78.000000  78.000000   78.000000  \n",
       "mean   25.106408  23.756283    1.350125  \n",
       "std     4.035443   3.849182    0.934202  \n",
       "min    16.276042  14.648438   -0.693619  \n",
       "25%    22.133637  20.933197    0.681503  \n",
       "50%    24.754720  23.420773    1.271620  \n",
       "75%    28.435113  26.634658    1.986516  \n",
       "max    35.209497  34.020346    3.520950  "
      ]
     },
     "execution_count": 11,
     "metadata": {},
     "output_type": "execute_result"
    }
   ],
   "source": [
    "df.describe() # Description of the dataframe"
   ]
  },
  {
   "cell_type": "code",
   "execution_count": 12,
   "id": "a5eb9539-fc94-491f-8382-7f7d9478812d",
   "metadata": {},
   "outputs": [
    {
     "name": "stdout",
     "output_type": "stream",
     "text": [
      "<class 'pandas.core.frame.DataFrame'>\n",
      "RangeIndex: 78 entries, 0 to 77\n",
      "Data columns (total 10 columns):\n",
      " #   Column        Non-Null Count  Dtype  \n",
      "---  ------        --------------  -----  \n",
      " 0   Person        78 non-null     int64  \n",
      " 1   gender        78 non-null     object \n",
      " 2   Age           78 non-null     int64  \n",
      " 3   Height        78 non-null     int64  \n",
      " 4   pre.weight    78 non-null     int64  \n",
      " 5   Diet          78 non-null     int64  \n",
      " 6   weight6weeks  78 non-null     float64\n",
      " 7   BMI_start     78 non-null     float64\n",
      " 8   BMI_end       78 non-null     float64\n",
      " 9   BMI_change    78 non-null     float64\n",
      "dtypes: float64(4), int64(5), object(1)\n",
      "memory usage: 6.2+ KB\n"
     ]
    }
   ],
   "source": [
    "df.info()"
   ]
  },
  {
   "cell_type": "markdown",
   "id": "e13da310-1d36-48ba-9779-667b9b776857",
   "metadata": {},
   "source": [
    "### Checking whether the dataset meets the Assumptions for ANOVA <sup>[4] [5] [6]</sup>"
   ]
  },
  {
   "cell_type": "markdown",
   "id": "6b72df97-fa36-4ef6-a4d8-c3abf82678fb",
   "metadata": {
    "tags": []
   },
   "source": [
    "#### Assumption 1 - Identifying the Dependent Variable"
   ]
  },
  {
   "cell_type": "code",
   "execution_count": 13,
   "id": "3e2ca65b-6a28-48ec-9772-97a5a35a27f6",
   "metadata": {},
   "outputs": [
    {
     "name": "stdout",
     "output_type": "stream",
     "text": [
      "The dependent variable is BMI_change as this is the variable which changes based on the type of Diet\n"
     ]
    },
    {
     "data": {
      "text/plain": [
       "0     0.000000\n",
       "1     0.000000\n",
       "2     1.503105\n",
       "3     1.627604\n",
       "4     0.242215\n",
       "        ...   \n",
       "73    0.836095\n",
       "74    1.308692\n",
       "75    1.970553\n",
       "76    3.298792\n",
       "77    1.991837\n",
       "Name: BMI_change, Length: 78, dtype: float64"
      ]
     },
     "execution_count": 13,
     "metadata": {},
     "output_type": "execute_result"
    }
   ],
   "source": [
    "# Dependent variable is weight loss measured by change in BMI of the individual\n",
    "# The dependent variable should be measured at the interval or ratio level\n",
    "\n",
    "print(\"The dependent variable is BMI_change as this is the variable which changes based on the type of Diet\")\n",
    "\n",
    "df['BMI_change']\n"
   ]
  },
  {
   "cell_type": "markdown",
   "id": "02cd1de4-a377-444f-be79-af5af20ab0de",
   "metadata": {},
   "source": [
    "#### Assumption 2 - Identifying the Independent Variable"
   ]
  },
  {
   "cell_type": "code",
   "execution_count": 14,
   "id": "c9c8c231-fd29-4536-ab79-d271a77cf6ce",
   "metadata": {},
   "outputs": [
    {
     "name": "stdout",
     "output_type": "stream",
     "text": [
      "The independent variable is Diet. We are checking the impact of the type of diet on BMI change\n"
     ]
    },
    {
     "data": {
      "text/plain": [
       "0     2\n",
       "1     2\n",
       "2     1\n",
       "3     1\n",
       "4     1\n",
       "     ..\n",
       "73    3\n",
       "74    3\n",
       "75    3\n",
       "76    3\n",
       "77    3\n",
       "Name: Diet, Length: 78, dtype: int64"
      ]
     },
     "execution_count": 14,
     "metadata": {},
     "output_type": "execute_result"
    }
   ],
   "source": [
    "# Independent variable is the type of diet\n",
    "# The independent variable should consist of two or more categorical, independent groups\n",
    "\n",
    "print(\"The independent variable is Diet. We are checking the impact of the type of diet on BMI change\")\n",
    "\n",
    "df['Diet']\n",
    "\n",
    "# The criteras are met because the independent variable is categorical (i.e. type of diet) and independent as a person cannot be on more than one diet types."
   ]
  },
  {
   "cell_type": "markdown",
   "id": "00ac00e0-c6e6-4edb-89be-778c42e449d8",
   "metadata": {},
   "source": [
    "#### Assumption 3 - Independence of observations"
   ]
  },
  {
   "cell_type": "markdown",
   "id": "d4e73cc3-18e1-495a-ae57-a764072957e1",
   "metadata": {},
   "source": [
    "<i>You should have independence of observations, which means that there is no relationship between the observations in each group or between the groups themselves. For example, there must be different participants in each group with no participant being in more than one group.</i>\n",
    "\n",
    "Commentary: See step 2. As each participant has only undertaken one diet type. Therefore this condition is deemed to have been met."
   ]
  },
  {
   "cell_type": "markdown",
   "id": "d532fc9e-1374-4258-8dc7-e4dcc8409968",
   "metadata": {},
   "source": [
    "#### Assumption 4 - Outliers"
   ]
  },
  {
   "cell_type": "markdown",
   "id": "6cf7f8a7-a083-49a0-8438-cbde7d2a698c",
   "metadata": {
    "tags": []
   },
   "source": [
    "<i>There should be no significant outliers. Outliers are simply single data points within your data that do not follow the usual pattern</i>\n",
    "\n",
    "We will identify outliers by plotting box plots of the independent variables classified by each category."
   ]
  },
  {
   "cell_type": "code",
   "execution_count": 15,
   "id": "55103f37-d5e0-46bb-9a94-21e68bae240b",
   "metadata": {},
   "outputs": [
    {
     "data": {
      "image/png": "[encoded data removed]",
      "text/plain": [
       "<Figure size 432x288 with 1 Axes>"
      ]
     },
     "metadata": {},
     "output_type": "display_data"
    }
   ],
   "source": [
    "# https://seaborn.pydata.org/generated/seaborn.boxplot.html\n",
    "\n",
    "sns.boxplot(x=df['Diet'], y=df['BMI_change'])\n",
    "plt.title(\"Boxplot of BMI Change for Each Category of Diet Type\")\n",
    "plt.show()"
   ]
  },
  {
   "cell_type": "markdown",
   "id": "1bcf2a6d-c0d2-40ad-87b4-5b62391cbaba",
   "metadata": {},
   "source": [
    "Only the Type 1 diet has a single outlier as per the box plots above. By looking at the box plots we can see that the outlier is around the 3.4 mark. We will look to identify the relevant row below to see if there a basis for exclusion of that particular item."
   ]
  },
  {
   "cell_type": "code",
   "execution_count": 16,
   "id": "58337186-a940-4e2c-acb7-f9a6106ecc22",
   "metadata": {},
   "outputs": [
    {
     "data": {
      "text/html": [
       "<div>\n",
       "<style scoped>\n",
       "    .dataframe tbody tr th:only-of-type {\n",
       "        vertical-align: middle;\n",
       "    }\n",
       "\n",
       "    .dataframe tbody tr th {\n",
       "        vertical-align: top;\n",
       "    }\n",
       "\n",
       "    .dataframe thead th {\n",
       "        text-align: right;\n",
       "    }\n",
       "</style>\n",
       "<table border=\"1\" class=\"dataframe\">\n",
       "  <thead>\n",
       "    <tr style=\"text-align: right;\">\n",
       "      <th></th>\n",
       "      <th>Person</th>\n",
       "      <th>gender</th>\n",
       "      <th>Age</th>\n",
       "      <th>Height</th>\n",
       "      <th>pre.weight</th>\n",
       "      <th>Diet</th>\n",
       "      <th>weight6weeks</th>\n",
       "      <th>BMI_start</th>\n",
       "      <th>BMI_end</th>\n",
       "      <th>BMI_change</th>\n",
       "    </tr>\n",
       "  </thead>\n",
       "  <tbody>\n",
       "    <tr>\n",
       "      <th>38</th>\n",
       "      <td>60</td>\n",
       "      <td>0</td>\n",
       "      <td>58</td>\n",
       "      <td>141</td>\n",
       "      <td>70</td>\n",
       "      <td>3</td>\n",
       "      <td>63.0</td>\n",
       "      <td>35.209497</td>\n",
       "      <td>31.688547</td>\n",
       "      <td>3.520950</td>\n",
       "    </tr>\n",
       "    <tr>\n",
       "      <th>49</th>\n",
       "      <td>19</td>\n",
       "      <td>1</td>\n",
       "      <td>43</td>\n",
       "      <td>162</td>\n",
       "      <td>80</td>\n",
       "      <td>1</td>\n",
       "      <td>71.0</td>\n",
       "      <td>30.483158</td>\n",
       "      <td>27.053803</td>\n",
       "      <td>3.429355</td>\n",
       "    </tr>\n",
       "  </tbody>\n",
       "</table>\n",
       "</div>"
      ],
      "text/plain": [
       "    Person gender  Age  Height  pre.weight  Diet  weight6weeks  BMI_start  \\\n",
       "38      60      0   58     141          70     3          63.0  35.209497   \n",
       "49      19      1   43     162          80     1          71.0  30.483158   \n",
       "\n",
       "      BMI_end  BMI_change  \n",
       "38  31.688547    3.520950  \n",
       "49  27.053803    3.429355  "
      ]
     },
     "execution_count": 16,
     "metadata": {},
     "output_type": "execute_result"
    }
   ],
   "source": [
    "df[df['BMI_change']>=3.4]"
   ]
  },
  {
   "cell_type": "markdown",
   "id": "0c404f26-bdea-4a0b-bc20-e39f9442dc63",
   "metadata": {},
   "source": [
    "While the outlier could be a misclassifed entry, there really is no basis to exclude the observation based on the information we have and so we will leave this observation as part of the data."
   ]
  },
  {
   "cell_type": "markdown",
   "id": "e0488572-a2d7-418f-8af7-ca98c28eef4d",
   "metadata": {},
   "source": [
    "#### Assumption 5 - Normally Distributed"
   ]
  },
  {
   "cell_type": "markdown",
   "id": "cf8441bf-9455-4148-8d40-a456362e4107",
   "metadata": {},
   "source": [
    "<i>Your dependent variable should be approximately normally distributed for each category of the independent variable</i>\n",
    "\n",
    "We will plot a kde plot of each categiry of the independent variable using the distplot within seaborn. The aim of the plots is to check whether each of the observations within each category of the independent variable is normally distributed."
   ]
  },
  {
   "cell_type": "code",
   "execution_count": 17,
   "id": "459b9e08-7650-482c-96cc-79af43a571eb",
   "metadata": {},
   "outputs": [
    {
     "data": {
      "image/png": "[encoded data removed]",
      "text/plain": [
       "<Figure size 402.375x360 with 1 Axes>"
      ]
     },
     "metadata": {},
     "output_type": "display_data"
    }
   ],
   "source": [
    "# KDEs of the three categories.\n",
    "\n",
    "sns.displot(x=df['BMI_change'], hue=df['Diet'], kind=\"kde\")\n",
    "plt.title(\"Distibution of BMI Change\")\n",
    "plt.show()"
   ]
  },
  {
   "cell_type": "markdown",
   "id": "25d20c77-c4b5-49ae-b07b-c3ce2bc546da",
   "metadata": {},
   "source": [
    "We can see from the above plot that each of the plots are approximately normally distributed. The Type 2 diet seems to have the most conventional normal distribution. The Type 1 and Type 3 diet seem to have a couple of kinks in the distribution but these are not too severe for us to conclude that they are not normally distributed."
   ]
  },
  {
   "cell_type": "markdown",
   "id": "fc8d0e37-5604-42ba-8ece-3201355de4c2",
   "metadata": {},
   "source": [
    "<u>Running the Shapiro Wilk Test for checking normality of the dependent variable</u>"
   ]
  },
  {
   "cell_type": "code",
   "execution_count": 18,
   "id": "fa820abc-210c-4449-bec3-aa3f1c11a226",
   "metadata": {},
   "outputs": [
    {
     "data": {
      "text/plain": [
       "ShapiroResult(statistic=0.9227969646453857, pvalue=0.06736458837985992)"
      ]
     },
     "execution_count": 18,
     "metadata": {},
     "output_type": "execute_result"
    }
   ],
   "source": [
    "# Shapiro Wilk Test - Diet Type 1\n",
    "\n",
    "ss.shapiro(df['BMI_change'][df['Diet'] == 1])\n"
   ]
  },
  {
   "cell_type": "code",
   "execution_count": 19,
   "id": "1520878e-9e23-4b00-88d9-a50dcd8adbf2",
   "metadata": {},
   "outputs": [
    {
     "data": {
      "text/plain": [
       "ShapiroResult(statistic=0.9763475060462952, pvalue=0.7722797989845276)"
      ]
     },
     "execution_count": 19,
     "metadata": {},
     "output_type": "execute_result"
    }
   ],
   "source": [
    "# Shapiro Wilk Test - Diet Type 2\n",
    "\n",
    "ss.shapiro(df['BMI_change'][df['Diet'] == 2])\n"
   ]
  },
  {
   "cell_type": "code",
   "execution_count": 20,
   "id": "6dab429a-af3f-4131-bf7e-2833e46031f7",
   "metadata": {},
   "outputs": [
    {
     "data": {
      "text/plain": [
       "ShapiroResult(statistic=0.9632238149642944, pvalue=0.43632328510284424)"
      ]
     },
     "execution_count": 20,
     "metadata": {},
     "output_type": "execute_result"
    }
   ],
   "source": [
    "# Shapiro Wilk Test - Diet Type 3\n",
    "\n",
    "ss.shapiro(df['BMI_change'][df['Diet'] == 3])\n"
   ]
  },
  {
   "cell_type": "markdown",
   "id": "2b736bc7-5b20-415f-b324-f78bfdb97138",
   "metadata": {},
   "source": [
    "Based on the above 'Statistic' values as well as the 'p' values we can conclude that the data is normally distributed for each category of the independent variable. The dataset for Diet Type 1 has the worst p value, however this is above the 0.05 threshold required for the data to be normally distributed."
   ]
  },
  {
   "cell_type": "markdown",
   "id": "059d0c66-1c8e-47e3-9601-5f56716b3763",
   "metadata": {},
   "source": [
    "#### Assumption 6 - Homogeneity of Variances"
   ]
  },
  {
   "cell_type": "markdown",
   "id": "393564dd-7c16-426f-97aa-5961257dd8d8",
   "metadata": {},
   "source": [
    "<i>There needs to be homogeneity of variances. You can test this assumption using Levene's test for homogeneity of variances.</i>\n",
    "\n",
    "As mentioned above we will use Levene's test as below:"
   ]
  },
  {
   "cell_type": "code",
   "execution_count": 21,
   "id": "0cffca7a-8f4f-40eb-9a40-2582e7ef075e",
   "metadata": {},
   "outputs": [
    {
     "data": {
      "text/plain": [
       "LeveneResult(statistic=1.0043048620443853, pvalue=0.37117119715835095)"
      ]
     },
     "execution_count": 21,
     "metadata": {},
     "output_type": "execute_result"
    }
   ],
   "source": [
    "# Test for equal variances.\n",
    "ss.levene(\n",
    "    df['BMI_change'][df['Diet'] == 1],\n",
    "    df['BMI_change'][df['Diet'] == 2],\n",
    "    df['BMI_change'][df['Diet'] == 3]\n",
    ")"
   ]
  },
  {
   "cell_type": "markdown",
   "id": "dfa3283e-fd14-4e7b-bb10-67a608739290",
   "metadata": {},
   "source": [
    "In the above we can see that the p-value is not less than .05. This means that we would fail to reject the null hypothesis i.e. we do not have sufficient evidence to say that the variance in BMI change between the three Diet plans is significantly different.\n",
    "\n",
    "We can see this visually as well in the boxplots. Each of the boxplots do not seem to be signifcantly larger than each other.\n",
    "\n",
    "Based on the above, we can conclude that there is homogeneity of variances."
   ]
  },
  {
   "cell_type": "markdown",
   "id": "f593495a-3ed9-48da-b63c-4c7dc40b9c75",
   "metadata": {},
   "source": [
    "#### One-way ANOVA"
   ]
  },
  {
   "cell_type": "code",
   "execution_count": 22,
   "id": "d8a19e56-f901-4c9c-8c65-b06cc64980d6",
   "metadata": {},
   "outputs": [
    {
     "data": {
      "text/plain": [
       "F_onewayResult(statistic=8.344341031617384, pvalue=0.0005345120426406237)"
      ]
     },
     "execution_count": 22,
     "metadata": {},
     "output_type": "execute_result"
    }
   ],
   "source": [
    "# ANOVA.\n",
    "ss.f_oneway(\n",
    "    df['BMI_change'][df['Diet'] == 1],\n",
    "    df['BMI_change'][df['Diet'] == 2],\n",
    "    df['BMI_change'][df['Diet'] == 3]\n",
    ")"
   ]
  },
  {
   "cell_type": "markdown",
   "id": "8edf39ce-df04-4a5b-9019-a6240cd8abad",
   "metadata": {},
   "source": [
    "#### Conclusion\n",
    "\n",
    "The F test statistic is 8.3443 and the corresponding p-value is 0.00053. Since the p-value is less than .05, we reject the null hypothesis.\n",
    "\n",
    "This means we have sufficient evidence to say that there is a difference in BMI change among the three Diet plans."
   ]
  },
  {
   "cell_type": "markdown",
   "id": "37f06ab2-5f2f-4470-820f-b7f3b0d34fac",
   "metadata": {},
   "source": [
    "#### Post-Hoc Test [7] [8]"
   ]
  },
  {
   "cell_type": "markdown",
   "id": "af41ead6-5352-4c39-9a24-9b03f7a7df17",
   "metadata": {},
   "source": [
    "We will attempt a simple posthoc test to see which groups have differences between them:"
   ]
  },
  {
   "cell_type": "code",
   "execution_count": 23,
   "id": "69b6d9b7-84a1-48fb-bf2c-a18425e2249a",
   "metadata": {
    "tags": []
   },
   "outputs": [
    {
     "name": "stdout",
     "output_type": "stream",
     "text": [
      "Multiple Comparison of Means - Tukey HSD, FWER=0.05\n",
      "===================================================\n",
      "group1 group2 meandiff p-adj   lower  upper  reject\n",
      "---------------------------------------------------\n",
      "     1      2   -0.149 0.7897 -0.7233 0.4253  False\n",
      "     1      3   0.7439 0.0077  0.1696 1.3182   True\n",
      "     2      3   0.8928  0.001  0.3357   1.45   True\n",
      "---------------------------------------------------\n"
     ]
    }
   ],
   "source": [
    "from statsmodels.stats.multicomp import pairwise_tukeyhsd\n",
    "print(pairwise_tukeyhsd(df['BMI_change'], df['Diet']))"
   ]
  },
  {
   "cell_type": "markdown",
   "id": "a3afb637-f92f-4e53-a171-889988a437a9",
   "metadata": {},
   "source": [
    "Based on the above we can conclude that there is a statistically significant difference beween the Diet Type 1 and 3 as well as the diet type 2 & 3. However there is no significant difference between the diet type 1 and 2."
   ]
  },
  {
   "cell_type": "markdown",
   "id": "cc496450-6b19-4330-bd99-cfcfc5aabb76",
   "metadata": {},
   "source": [
    "### References:\n",
    "\n",
    "[1] - SciPy Stats Library - https://docs.scipy.org/doc/scipy/reference/stats.html\n",
    "\n",
    "[2] - SciPy Stats Tutorial - https://www.tutorialspoint.com/scipy/scipy_stats.htm\n",
    "\n",
    "[3] - Introduction to ANOVA - https://www.analyticsvidhya.com/blog/2020/06/introduction-anova-statistics-data-science-covid-python/\n",
    "\n",
    "[4] - LAERD One Way ANOVA - https://statistics.laerd.com/spss-tutorials/one-way-anova-using-spss-statistics.php\n",
    "\n",
    "[5]  ANOVA - https://www.analyticsvidhya.com/blog/2018/01/anova-analysis-of-variance/\n",
    "\n",
    "[6] - ANOVA Using Python - https://www.reneshbedre.com/blog/anova.html\n",
    "\n",
    "[7] - Post Hoc Test - https://stackoverflow.com/questions/16049552/what-statistics-module-for-python-supports-one-way-anova-with-post-hoc-tests-tu\n",
    "\n",
    "[8] - Post Hoc Test Blog - https://jpktd.blogspot.com/2013/03/multiple-comparison-and-tukey-hsd-or_25.html\n"
   ]
  },
  {
   "cell_type": "markdown",
   "id": "04bd6b50-feeb-43e1-ab3b-9647bc2d1d64",
   "metadata": {},
   "source": [
    "***\n",
    "#### End of Scipy Stats - One Way ANOVA"
   ]
  },
  {
   "cell_type": "code",
   "execution_count": null,
   "id": "c91ef9c5-0409-499c-9c61-c4cae88ad134",
   "metadata": {},
   "outputs": [],
   "source": []
  }
 ],
 "metadata": {
  "kernelspec": {
   "display_name": "Python 3",
   "language": "python",
   "name": "python3"
  },
  "language_info": {
   "codemirror_mode": {
    "name": "ipython",
    "version": 3
   },
   "file_extension": ".py",
   "mimetype": "text/x-python",
   "name": "python",
   "nbconvert_exporter": "python",
   "pygments_lexer": "ipython3",
   "version": "3.8.8"
  }
 },
 "nbformat": 4,
 "nbformat_minor": 5
}
